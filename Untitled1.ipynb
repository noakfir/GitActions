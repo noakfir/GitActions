{
 "cells": [
  {
   "cell_type": "code",
   "execution_count": null,
   "id": "ea53b71f",
   "metadata": {},
   "outputs": [],
   "source": [
    "import pandas as pd \n",
    "import math \n",
    "df = pd.read_csv(\"example.csv\")\n",
    "df['a/b'] = df['a']/df['b']\n",
    "\n",
    "if math.isinf(df[\"a/b\"][2]):\n",
    "    raise ValueError\n"
   ]
  },
  {
   "cell_type": "code",
   "execution_count": null,
   "id": "fe2c9fb7",
   "metadata": {},
   "outputs": [],
   "source": []
  }
 ],
 "metadata": {
  "kernelspec": {
   "display_name": "Python 3 (ipykernel)",
   "language": "python",
   "name": "python3"
  }
 },
 "nbformat": 4,
 "nbformat_minor": 5
}
